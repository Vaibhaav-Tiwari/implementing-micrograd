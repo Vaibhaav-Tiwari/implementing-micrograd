{
  "cells": [
    {
      "cell_type": "code",
      "execution_count": null,
      "metadata": {
        "id": "hn4_SYM_19QZ"
      },
      "outputs": [],
      "source": [
        "import math\n",
        "import pandas as pd\n",
        "import numpy as np\n",
        "import matplotlib.pyplot as plt\n",
        "import seaborn as sns\n",
        "%matplotlib inline"
      ]
    },
    {
      "cell_type": "code",
      "execution_count": null,
      "metadata": {
        "id": "Uj5-K82e2LsL"
      },
      "outputs": [],
      "source": [
        "def f(x):\n",
        "  return 3*x**2 - 4*x + 5"
      ]
    },
    {
      "cell_type": "code",
      "execution_count": null,
      "metadata": {
        "colab": {
          "base_uri": "https://localhost:8080/"
        },
        "id": "vsKxN4x92sQe",
        "outputId": "34d6bea6-dd0b-4e59-c559-58f333a6f287"
      },
      "outputs": [
        {
          "data": {
            "text/plain": [
              "20.0"
            ]
          },
          "execution_count": 3,
          "metadata": {},
          "output_type": "execute_result"
        }
      ],
      "source": [
        "f(3.0)"
      ]
    },
    {
      "cell_type": "code",
      "execution_count": null,
      "metadata": {
        "colab": {
          "base_uri": "https://localhost:8080/",
          "height": 447
        },
        "id": "Ys2tqmuo2tQN",
        "outputId": "17758d4d-c241-4b9e-f690-7b2d53698f31"
      },
      "outputs": [
        {
          "data": {
            "text/plain": [
              "[<matplotlib.lines.Line2D at 0x7bba57cc5810>]"
            ]
          },
          "execution_count": 5,
          "metadata": {},
          "output_type": "execute_result"
        },
        {
          "data": {
            "image/png": "[encoded data removed]",
            "text/plain": [
              "<Figure size 640x480 with 1 Axes>"
            ]
          },
          "metadata": {},
          "output_type": "display_data"
        }
      ],
      "source": [
        "xs = np.arange(-10, 10, 0.25)\n",
        "ys = f(xs)\n",
        "plt.plot(xs, ys)"
      ]
    },
    {
      "cell_type": "code",
      "execution_count": 17,
      "metadata": {
        "colab": {
          "base_uri": "https://localhost:8080/"
        },
        "id": "TfLQNq8L2zS2",
        "outputId": "a2fc2548-70d8-4bc8-a0eb-3857aeaa1045"
      },
      "outputs": [
        {
          "data": {
            "text/plain": [
              "2.999378523327323e-06"
            ]
          },
          "execution_count": 17,
          "metadata": {},
          "output_type": "execute_result"
        }
      ],
      "source": [
        "h = 0.000001\n",
        "x = 2/3\n",
        "(f(x+h) - f(x))/h"
      ]
    },
    {
      "cell_type": "code",
      "execution_count": 19,
      "metadata": {
        "colab": {
          "base_uri": "https://localhost:8080/"
        },
        "id": "oZyZd6oK4HB3",
        "outputId": "9d0b8ff4-55d4-47a5-adf1-7251268096fb"
      },
      "outputs": [
        {
          "name": "stdout",
          "output_type": "stream",
          "text": [
            "4.0\n"
          ]
        }
      ],
      "source": [
        "a =2.0\n",
        "b = -3.0\n",
        "c =10.0\n",
        "d=a*b+c\n",
        "print(d)"
      ]
    },
    {
      "cell_type": "code",
      "execution_count": 25,
      "metadata": {
        "colab": {
          "base_uri": "https://localhost:8080/"
        },
        "id": "-HMl2QAx5BVt",
        "outputId": "eb144eb6-a544-4835-d600-351c856fec28"
      },
      "outputs": [
        {
          "name": "stdout",
          "output_type": "stream",
          "text": [
            "d1 4.0\n",
            "d2 4.0001\n",
            "slope 0.9999999999976694\n"
          ]
        }
      ],
      "source": [
        "h = 0.0001\n",
        "\n",
        "#inputs\n",
        "a =2.0\n",
        "b = -3.0\n",
        "c =10.0\n",
        "\n",
        "d1=a*b+c\n",
        "c+= h\n",
        "d2 = a*b +c\n",
        "\n",
        "print('d1',d1)\n",
        "print('d2',d2)\n",
        "print('slope',(d2-d1)/h)\n"
      ]
    },
    {
      "cell_type": "code",
      "execution_count": 225,
      "metadata": {
        "id": "USUbn7ga5zMw"
      },
      "outputs": [],
      "source": [
        "class Value:\n",
        "  def __init__(self, data, _children=(), _op='', label=''):\n",
        "    self.data = data\n",
        "    self.grad = 0.0\n",
        "    self._backward = lambda: None\n",
        "    self._prev = set(_children)\n",
        "    self._op = _op\n",
        "    self.label = label\n",
        "\n",
        "  def __repr__(self):\n",
        "    return f\"value(data={self.data})\"\n",
        "\n",
        "  def __add__(self, other):\n",
        "    other = other if isinstance(other, Value) else Value(other)\n",
        "    out = Value(self.data + other.data, (self, other), '+')\n",
        "\n",
        "    def _backward():\n",
        "      self.grad += 1.0 * out.grad\n",
        "      other.grad += 1.0 * out.grad\n",
        "    out._backward = _backward\n",
        "    return out\n",
        "\n",
        "  # Add __radd__ to handle operations like int + Value or float + Value\n",
        "  def __radd__(self, other):\n",
        "    return self + other # Delegate to the __add__ method\n",
        "\n",
        "  def __mul__(self, other):\n",
        "    other = other if isinstance(other, Value) else Value(other)\n",
        "    out = Value(self.data * other.data, (self, other), '*')\n",
        "\n",
        "    def _backward():\n",
        "      self.grad += other.data * out.grad\n",
        "      other.grad += self.data * out.grad\n",
        "    out._backward = _backward\n",
        "    return out\n",
        "\n",
        "  def __rmul__(self, other):\n",
        "    return self * other # Delegate to the __mul__ method\n",
        "\n",
        "  def __pow__(self, other):\n",
        "    assert isinstance(other, (int, float)), \"only supporting int/float powers for now\"\n",
        "    out = Value(self.data**other, (self,), f'**{other}')\n",
        "\n",
        "    def _backward():\n",
        "      self.grad += (other * self.data**(other-1)) * out.grad\n",
        "    out._backward = _backward\n",
        "    return out\n",
        "\n",
        "  # Corrected exp method - indentation and backward pass\n",
        "  def exp(self):\n",
        "    x = self.data\n",
        "    out = Value(math.exp(x), (self, ), 'exp')\n",
        "\n",
        "    def _backward():\n",
        "        # The derivative of exp(x) with respect to x is exp(x)\n",
        "        # grad_x = grad_out * d(out)/dx = grad_out * exp(x)\n",
        "        self.grad += out.data * out.grad # out.data is exp(x)\n",
        "    out._backward = _backward\n",
        "    return out\n",
        "\n",
        "  def __truediv__(self, other):\n",
        "    return self * other**-1 # Uses __mul__ and __pow__\n",
        "\n",
        "  def __neg__(self): # -self\n",
        "    return self * -1 # Uses __mul__\n",
        "\n",
        "  def __sub__(self, other): # self - other\n",
        "    other = other if isinstance(other, Value) else Value(other) # Ensure other is Value\n",
        "    return self + (-other) # Uses __add__ and __neg__\n",
        "\n",
        "  def tanh(self):\n",
        "    x = self.data\n",
        "    t = (math.exp(2*x) - 1)/(math.exp(2*x) + 1)\n",
        "    out = Value(t, (self, ), 'tanh')\n",
        "\n",
        "    def _backward():\n",
        "      # Derivative of tanh(x) is 1 - tanh(x)**2\n",
        "      # grad_x = grad_out * d(out)/dx = grad_out * (1 - tanh(x)**2)\n",
        "      self.grad += (1 - t**2) * out.grad\n",
        "    out._backward = _backward\n",
        "    return out\n",
        "\n",
        "  def backward(self):\n",
        "     # This implementation seems correct for topological sort and backpropagation\n",
        "     topo = []\n",
        "     visited = set()\n",
        "     def build_topo(v):\n",
        "       if v not in visited:\n",
        "         visited.add(v)\n",
        "         for child in v._prev:\n",
        "           build_topo(child)\n",
        "         topo.append(v)\n",
        "\n",
        "     # Kick off the topological sort from the current node (self)\n",
        "     build_topo(self)\n",
        "\n",
        "     # Set the gradient of the output (self) to 1.0\n",
        "     self.grad = 1.0\n",
        "\n",
        "     # Iterate through the sorted nodes in reverse order and apply backward pass\n",
        "     for node in reversed(topo):\n",
        "       node._backward()"
      ]
    },
    {
      "cell_type": "code",
      "execution_count": 179,
      "metadata": {
        "colab": {
          "base_uri": "https://localhost:8080/"
        },
        "id": "wy6HgsYhUW1_",
        "outputId": "430060f7-de20-4ae3-8b4d-fb01621d708c"
      },
      "outputs": [
        {
          "data": {
            "text/plain": [
              "value(data=0.5)"
            ]
          },
          "execution_count": 179,
          "metadata": {},
          "output_type": "execute_result"
        }
      ],
      "source": [
        "a = Value(2.0)\n",
        "b =Value(4.0)\n",
        "a/b"
      ]
    },
    {
      "cell_type": "code",
      "execution_count": 180,
      "metadata": {
        "id": "dOh957XZ8RYz"
      },
      "outputs": [],
      "source": [
        "from graphviz import Digraph\n",
        "\n",
        "def trace(root):\n",
        "  nodes, edges = set(), set()\n",
        "  def build(v):\n",
        "    if v not in nodes:\n",
        "      nodes.add(v)\n",
        "      for child in v._prev:\n",
        "        edges.add((child, v))\n",
        "        build(child)\n",
        "  build(root)\n",
        "  return nodes, edges\n",
        "\n",
        "def draw_dot(root):\n",
        "  dot = Digraph(format='svg', graph_attr={'rankdir': 'LR'})\n",
        "  nodes, edges = trace(root)\n",
        "  for n in nodes:\n",
        "    uid = str(id(n))\n",
        "    dot.node(name = uid, label = \"{%s | data %.4f | grad %.4f}\" % (n.label, n.data, n.grad), shape='record')\n",
        "    if n._op:\n",
        "      dot.node(name = uid + n._op, label = n._op)\n",
        "      dot.edge(uid + n._op, uid)\n",
        "  for n1, n2 in edges:\n",
        "    dot.edge(str(id(n1)), str(id(n2))+n2._op)\n",
        "  return dot"
      ]
    },
    {
      "cell_type": "code",
      "execution_count": 83,
      "metadata": {
        "colab": {
          "base_uri": "https://localhost:8080/",
          "height": 227
        },
        "id": "tT57729o9Fsp",
        "outputId": "02f27c88-e249-4a8d-af07-239779ee02de"
      },
      "outputs": [
        {
          "data": {
            "image/svg+xml": [
              "<?xml version=\"1.0\" encoding=\"UTF-8\" standalone=\"no\"?>\n",
              "<!DOCTYPE svg PUBLIC \"-//W3C//DTD SVG 1.1//EN\"\n",
              " \"http://www.w3.org/Graphics/SVG/1.1/DTD/svg11.dtd\">\n",
              "<!-- Generated by graphviz version 2.43.0 (0)\n",
              " -->\n",
              "<!-- Title: %3 Pages: 1 -->\n",
              "<svg width=\"1157pt\" height=\"154pt\"\n",
              " viewBox=\"0.00 0.00 1157.00 154.00\" xmlns=\"http://www.w3.org/2000/svg\" xmlns:xlink=\"http://www.w3.org/1999/xlink\">\n",
              "<g id=\"graph0\" class=\"graph\" transform=\"scale(1 1) rotate(0) translate(4 150)\">\n",
              "<title>%3</title>\n",
              "<polygon fill=\"white\" stroke=\"transparent\" points=\"-4,4 -4,-150 1153,-150 1153,4 -4,4\"/>\n",
              "<!-- 136040037998096 -->\n",
              "<g id=\"node1\" class=\"node\">\n",
              "<title>136040037998096</title>\n",
              "<polygon fill=\"none\" stroke=\"black\" points=\"321,-27.5 321,-63.5 515,-63.5 515,-27.5 321,-27.5\"/>\n",
              "<text text-anchor=\"middle\" x=\"332.5\" y=\"-41.8\" font-family=\"Times,serif\" font-size=\"14.00\">e</text>\n",
              "<polyline fill=\"none\" stroke=\"black\" points=\"344,-27.5 344,-63.5 \"/>\n",
              "<text text-anchor=\"middle\" x=\"386.5\" y=\"-41.8\" font-family=\"Times,serif\" font-size=\"14.00\">data &#45;6.0000</text>\n",
              "<polyline fill=\"none\" stroke=\"black\" points=\"429,-27.5 429,-63.5 \"/>\n",
              "<text text-anchor=\"middle\" x=\"472\" y=\"-41.8\" font-family=\"Times,serif\" font-size=\"14.00\">grad &#45;2.0000</text>\n",
              "</g>\n",
              "<!-- 136040037996880+ -->\n",
              "<g id=\"node9\" class=\"node\">\n",
              "<title>136040037996880+</title>\n",
              "<ellipse fill=\"none\" stroke=\"black\" cx=\"579\" cy=\"-72.5\" rx=\"27\" ry=\"18\"/>\n",
              "<text text-anchor=\"middle\" x=\"579\" y=\"-68.8\" font-family=\"Times,serif\" font-size=\"14.00\">+</text>\n",
              "</g>\n",
              "<!-- 136040037998096&#45;&gt;136040037996880+ -->\n",
              "<g id=\"edge8\" class=\"edge\">\n",
              "<title>136040037998096&#45;&gt;136040037996880+</title>\n",
              "<path fill=\"none\" stroke=\"black\" d=\"M515.16,-61.83C524.82,-63.47 534.13,-65.05 542.49,-66.47\"/>\n",
              "<polygon fill=\"black\" stroke=\"black\" points=\"542.09,-69.95 552.54,-68.18 543.26,-63.05 542.09,-69.95\"/>\n",
              "</g>\n",
              "<!-- 136040037998096* -->\n",
              "<g id=\"node2\" class=\"node\">\n",
              "<title>136040037998096*</title>\n",
              "<ellipse fill=\"none\" stroke=\"black\" cx=\"257\" cy=\"-45.5\" rx=\"27\" ry=\"18\"/>\n",
              "<text text-anchor=\"middle\" x=\"257\" y=\"-41.8\" font-family=\"Times,serif\" font-size=\"14.00\">*</text>\n",
              "</g>\n",
              "<!-- 136040037998096*&#45;&gt;136040037998096 -->\n",
              "<g id=\"edge1\" class=\"edge\">\n",
              "<title>136040037998096*&#45;&gt;136040037998096</title>\n",
              "<path fill=\"none\" stroke=\"black\" d=\"M284.26,-45.5C292.05,-45.5 301.1,-45.5 310.75,-45.5\"/>\n",
              "<polygon fill=\"black\" stroke=\"black\" points=\"310.99,-49 320.99,-45.5 310.99,-42 310.99,-49\"/>\n",
              "</g>\n",
              "<!-- 136040037996048 -->\n",
              "<g id=\"node3\" class=\"node\">\n",
              "<title>136040037996048</title>\n",
              "<polygon fill=\"none\" stroke=\"black\" points=\"642.5,-109.5 642.5,-145.5 830.5,-145.5 830.5,-109.5 642.5,-109.5\"/>\n",
              "<text text-anchor=\"middle\" x=\"653\" y=\"-123.8\" font-family=\"Times,serif\" font-size=\"14.00\">f</text>\n",
              "<polyline fill=\"none\" stroke=\"black\" points=\"663.5,-109.5 663.5,-145.5 \"/>\n",
              "<text text-anchor=\"middle\" x=\"706\" y=\"-123.8\" font-family=\"Times,serif\" font-size=\"14.00\">data &#45;2.0000</text>\n",
              "<polyline fill=\"none\" stroke=\"black\" points=\"748.5,-109.5 748.5,-145.5 \"/>\n",
              "<text text-anchor=\"middle\" x=\"789.5\" y=\"-123.8\" font-family=\"Times,serif\" font-size=\"14.00\">grad 4.0000</text>\n",
              "</g>\n",
              "<!-- 136040038002448* -->\n",
              "<g id=\"node7\" class=\"node\">\n",
              "<title>136040038002448*</title>\n",
              "<ellipse fill=\"none\" stroke=\"black\" cx=\"894\" cy=\"-99.5\" rx=\"27\" ry=\"18\"/>\n",
              "<text text-anchor=\"middle\" x=\"894\" y=\"-95.8\" font-family=\"Times,serif\" font-size=\"14.00\">*</text>\n",
              "</g>\n",
              "<!-- 136040037996048&#45;&gt;136040038002448* -->\n",
              "<g id=\"edge6\" class=\"edge\">\n",
              "<title>136040037996048&#45;&gt;136040038002448*</title>\n",
              "<path fill=\"none\" stroke=\"black\" d=\"M830.65,-110.73C840.2,-109.01 849.43,-107.35 857.72,-105.85\"/>\n",
              "<polygon fill=\"black\" stroke=\"black\" points=\"858.47,-109.27 867.69,-104.06 857.23,-102.39 858.47,-109.27\"/>\n",
              "</g>\n",
              "<!-- 136040038001360 -->\n",
              "<g id=\"node4\" class=\"node\">\n",
              "<title>136040038001360</title>\n",
              "<polygon fill=\"none\" stroke=\"black\" points=\"4.5,-55.5 4.5,-91.5 189.5,-91.5 189.5,-55.5 4.5,-55.5\"/>\n",
              "<text text-anchor=\"middle\" x=\"16\" y=\"-69.8\" font-family=\"Times,serif\" font-size=\"14.00\">a</text>\n",
              "<polyline fill=\"none\" stroke=\"black\" points=\"27.5,-55.5 27.5,-91.5 \"/>\n",
              "<text text-anchor=\"middle\" x=\"67.5\" y=\"-69.8\" font-family=\"Times,serif\" font-size=\"14.00\">data 2.0000</text>\n",
              "<polyline fill=\"none\" stroke=\"black\" points=\"107.5,-55.5 107.5,-91.5 \"/>\n",
              "<text text-anchor=\"middle\" x=\"148.5\" y=\"-69.8\" font-family=\"Times,serif\" font-size=\"14.00\">grad 6.0000</text>\n",
              "</g>\n",
              "<!-- 136040038001360&#45;&gt;136040037998096* -->\n",
              "<g id=\"edge4\" class=\"edge\">\n",
              "<title>136040038001360&#45;&gt;136040037998096*</title>\n",
              "<path fill=\"none\" stroke=\"black\" d=\"M189.91,-57.21C200.76,-55.29 211.28,-53.43 220.61,-51.77\"/>\n",
              "<polygon fill=\"black\" stroke=\"black\" points=\"221.37,-55.19 230.6,-50 220.15,-48.3 221.37,-55.19\"/>\n",
              "</g>\n",
              "<!-- 136040038004944 -->\n",
              "<g id=\"node5\" class=\"node\">\n",
              "<title>136040038004944</title>\n",
              "<polygon fill=\"none\" stroke=\"black\" points=\"0,-0.5 0,-36.5 194,-36.5 194,-0.5 0,-0.5\"/>\n",
              "<text text-anchor=\"middle\" x=\"11.5\" y=\"-14.8\" font-family=\"Times,serif\" font-size=\"14.00\">b</text>\n",
              "<polyline fill=\"none\" stroke=\"black\" points=\"23,-0.5 23,-36.5 \"/>\n",
              "<text text-anchor=\"middle\" x=\"65.5\" y=\"-14.8\" font-family=\"Times,serif\" font-size=\"14.00\">data &#45;3.0000</text>\n",
              "<polyline fill=\"none\" stroke=\"black\" points=\"108,-0.5 108,-36.5 \"/>\n",
              "<text text-anchor=\"middle\" x=\"151\" y=\"-14.8\" font-family=\"Times,serif\" font-size=\"14.00\">grad &#45;4.0000</text>\n",
              "</g>\n",
              "<!-- 136040038004944&#45;&gt;136040037998096* -->\n",
              "<g id=\"edge9\" class=\"edge\">\n",
              "<title>136040038004944&#45;&gt;136040037998096*</title>\n",
              "<path fill=\"none\" stroke=\"black\" d=\"M194.01,-34.91C203.35,-36.5 212.37,-38.04 220.49,-39.43\"/>\n",
              "<polygon fill=\"black\" stroke=\"black\" points=\"220.16,-42.93 230.6,-41.16 221.34,-36.03 220.16,-42.93\"/>\n",
              "</g>\n",
              "<!-- 136040038002448 -->\n",
              "<g id=\"node6\" class=\"node\">\n",
              "<title>136040038002448</title>\n",
              "<polygon fill=\"none\" stroke=\"black\" points=\"957,-81.5 957,-117.5 1149,-117.5 1149,-81.5 957,-81.5\"/>\n",
              "<text text-anchor=\"middle\" x=\"969.5\" y=\"-95.8\" font-family=\"Times,serif\" font-size=\"14.00\">L</text>\n",
              "<polyline fill=\"none\" stroke=\"black\" points=\"982,-81.5 982,-117.5 \"/>\n",
              "<text text-anchor=\"middle\" x=\"1024.5\" y=\"-95.8\" font-family=\"Times,serif\" font-size=\"14.00\">data &#45;8.0000</text>\n",
              "<polyline fill=\"none\" stroke=\"black\" points=\"1067,-81.5 1067,-117.5 \"/>\n",
              "<text text-anchor=\"middle\" x=\"1108\" y=\"-95.8\" font-family=\"Times,serif\" font-size=\"14.00\">grad 1.0000</text>\n",
              "</g>\n",
              "<!-- 136040038002448*&#45;&gt;136040038002448 -->\n",
              "<g id=\"edge2\" class=\"edge\">\n",
              "<title>136040038002448*&#45;&gt;136040038002448</title>\n",
              "<path fill=\"none\" stroke=\"black\" d=\"M921.28,-99.5C928.78,-99.5 937.44,-99.5 946.67,-99.5\"/>\n",
              "<polygon fill=\"black\" stroke=\"black\" points=\"946.87,-103 956.87,-99.5 946.87,-96 946.87,-103\"/>\n",
              "</g>\n",
              "<!-- 136040037996880 -->\n",
              "<g id=\"node8\" class=\"node\">\n",
              "<title>136040037996880</title>\n",
              "<polygon fill=\"none\" stroke=\"black\" points=\"642,-54.5 642,-90.5 831,-90.5 831,-54.5 642,-54.5\"/>\n",
              "<text text-anchor=\"middle\" x=\"653.5\" y=\"-68.8\" font-family=\"Times,serif\" font-size=\"14.00\">d</text>\n",
              "<polyline fill=\"none\" stroke=\"black\" points=\"665,-54.5 665,-90.5 \"/>\n",
              "<text text-anchor=\"middle\" x=\"705\" y=\"-68.8\" font-family=\"Times,serif\" font-size=\"14.00\">data 4.0000</text>\n",
              "<polyline fill=\"none\" stroke=\"black\" points=\"745,-54.5 745,-90.5 \"/>\n",
              "<text text-anchor=\"middle\" x=\"788\" y=\"-68.8\" font-family=\"Times,serif\" font-size=\"14.00\">grad &#45;2.0000</text>\n",
              "</g>\n",
              "<!-- 136040037996880&#45;&gt;136040038002448* -->\n",
              "<g id=\"edge5\" class=\"edge\">\n",
              "<title>136040037996880&#45;&gt;136040038002448*</title>\n",
              "<path fill=\"none\" stroke=\"black\" d=\"M831.1,-88.75C840.4,-90.37 849.38,-91.93 857.49,-93.33\"/>\n",
              "<polygon fill=\"black\" stroke=\"black\" points=\"857.14,-96.83 867.59,-95.09 858.34,-89.93 857.14,-96.83\"/>\n",
              "</g>\n",
              "<!-- 136040037996880+&#45;&gt;136040037996880 -->\n",
              "<g id=\"edge3\" class=\"edge\">\n",
              "<title>136040037996880+&#45;&gt;136040037996880</title>\n",
              "<path fill=\"none\" stroke=\"black\" d=\"M606.03,-72.5C613.66,-72.5 622.52,-72.5 631.94,-72.5\"/>\n",
              "<polygon fill=\"black\" stroke=\"black\" points=\"631.94,-76 641.94,-72.5 631.94,-69 631.94,-76\"/>\n",
              "</g>\n",
              "<!-- 136040038004688 -->\n",
              "<g id=\"node10\" class=\"node\">\n",
              "<title>136040038004688</title>\n",
              "<polygon fill=\"none\" stroke=\"black\" points=\"320,-82.5 320,-118.5 516,-118.5 516,-82.5 320,-82.5\"/>\n",
              "<text text-anchor=\"middle\" x=\"331.5\" y=\"-96.8\" font-family=\"Times,serif\" font-size=\"14.00\">c</text>\n",
              "<polyline fill=\"none\" stroke=\"black\" points=\"343,-82.5 343,-118.5 \"/>\n",
              "<text text-anchor=\"middle\" x=\"386.5\" y=\"-96.8\" font-family=\"Times,serif\" font-size=\"14.00\">data 10.0000</text>\n",
              "<polyline fill=\"none\" stroke=\"black\" points=\"430,-82.5 430,-118.5 \"/>\n",
              "<text text-anchor=\"middle\" x=\"473\" y=\"-96.8\" font-family=\"Times,serif\" font-size=\"14.00\">grad &#45;2.0000</text>\n",
              "</g>\n",
              "<!-- 136040038004688&#45;&gt;136040037996880+ -->\n",
              "<g id=\"edge7\" class=\"edge\">\n",
              "<title>136040038004688&#45;&gt;136040037996880+</title>\n",
              "<path fill=\"none\" stroke=\"black\" d=\"M516.07,-83.41C525.42,-81.76 534.43,-80.17 542.55,-78.74\"/>\n",
              "<polygon fill=\"black\" stroke=\"black\" points=\"543.41,-82.15 552.65,-76.96 542.2,-75.25 543.41,-82.15\"/>\n",
              "</g>\n",
              "</g>\n",
              "</svg>\n"
            ],
            "text/plain": [
              "<graphviz.graphs.Digraph at 0x7bba4a19a010>"
            ]
          },
          "execution_count": 83,
          "metadata": {},
          "output_type": "execute_result"
        }
      ],
      "source": [
        "draw_dot(L)"
      ]
    },
    {
      "cell_type": "code",
      "execution_count": 85,
      "metadata": {
        "colab": {
          "base_uri": "https://localhost:8080/"
        },
        "id": "15Q9_gUCJXX4",
        "outputId": "bcacbff2-df7d-4f95-e786-94e957897811"
      },
      "outputs": [
        {
          "name": "stdout",
          "output_type": "stream",
          "text": [
            "-6.586368000000001\n"
          ]
        }
      ],
      "source": [
        "a.data += 0.01 * a.grad\n",
        "b.data += 0.01 * b.grad\n",
        "c.data += 0.01 * c.grad\n",
        "f.data += 0.01 * f.grad\n",
        "\n",
        "e = a*b;\n",
        "d = e + c\n",
        "L = d*f\n",
        "\n",
        "print(L.data)"
      ]
    },
    {
      "cell_type": "code",
      "execution_count": 79,
      "metadata": {
        "colab": {
          "base_uri": "https://localhost:8080/"
        },
        "id": "z6-x048d9NK6",
        "outputId": "56a44fa6-db2a-46a1-d35f-c227176bdd96"
      },
      "outputs": [
        {
          "name": "stdout",
          "output_type": "stream",
          "text": [
            "-2.000000000000668\n"
          ]
        }
      ],
      "source": [
        "def lol():\n",
        "\n",
        "  h = 0.001\n",
        "\n",
        "  a = Value(2.0, label='a')\n",
        "  b = Value(-3.0, label='b')\n",
        "  c = Value(10.0, label='c')\n",
        "  e = a*b; e.label = 'e'\n",
        "  d = e + c; d.label = 'd'\n",
        "  f = Value(-2.0, label='f')\n",
        "  L = d*f; L.label = 'L'\n",
        "  L1 = L.data\n",
        "\n",
        "  a = Value(2.0, label='a')\n",
        "  b = Value(-3.0, label='b')\n",
        "  c = Value(10.0, label='c')\n",
        "  e = a*b; e.label = 'e'\n",
        "  d = e + c; d.label = 'd'\n",
        "  f = Value(-2.0, label='f')\n",
        "  L = d*f; L.label = 'L'\n",
        "  L2 = L.data\n",
        "\n",
        "\n",
        "  print((L2-L1)/h)\n",
        "\n",
        "lol()"
      ]
    },
    {
      "cell_type": "code",
      "execution_count": 86,
      "metadata": {
        "colab": {
          "base_uri": "https://localhost:8080/",
          "height": 430
        },
        "id": "-WR2U7ntAKRm",
        "outputId": "400e4f7f-5c2c-44a4-b42e-4070a024a238"
      },
      "outputs": [
        {
          "data": {
            "image/png": "[encoded data removed]",
            "text/plain": [
              "<Figure size 640x480 with 1 Axes>"
            ]
          },
          "metadata": {},
          "output_type": "display_data"
        }
      ],
      "source": [
        "plt.plot(np.arange(-5,5,0.2), np.tanh(np.arange(-5,5,0.2))); plt.grid();\n"
      ]
    },
    {
      "cell_type": "code",
      "execution_count": 186,
      "metadata": {
        "id": "nmF1so3WKYus"
      },
      "outputs": [],
      "source": [
        "x1 = Value(2.0, label='x1')\n",
        "x2 = Value(0.0, label='x2')\n",
        "w1 = Value(-3.0, label='w1')\n",
        "w2 = Value(1.0, label='w2')\n",
        "b = Value(6.8813735870195432, label='b')\n",
        "x1w1 = x1*w1; x1w1.label = 'x1*w1'\n",
        "x2w2 = x2*w2; x2w2.label = 'x2*w2'\n",
        "x1w1x2w2 = x1w1 + x2w2; x1w1x2w2.label = 'x1*w1 + x2*w2'\n",
        "n = x1w1x2w2 + b; n.label = 'n'\n",
        "#----------\n",
        "e = (2*n).exp()\n",
        "o = (e-1)/(e+1)\n",
        "#----------\n",
        "\n",
        "o.label = 'o'\n",
        "o.backward()"
      ]
    },
    {
      "cell_type": "code",
      "execution_count": 187,
      "metadata": {
        "colab": {
          "base_uri": "https://localhost:8080/",
          "height": 321
        },
        "id": "y7OhCVYvMJrz",
        "outputId": "b365f848-0c1a-498c-ac44-a9873390a484"
      },
      "outputs": [
        {
          "data": {
            "image/svg+xml": [
              "<?xml version=\"1.0\" encoding=\"UTF-8\" standalone=\"no\"?>\n",
              "<!DOCTYPE svg PUBLIC \"-//W3C//DTD SVG 1.1//EN\"\n",
              " \"http://www.w3.org/Graphics/SVG/1.1/DTD/svg11.dtd\">\n",
              "<!-- Generated by graphviz version 2.43.0 (0)\n",
              " -->\n",
              "<!-- Title: %3 Pages: 1 -->\n",
              "<svg width=\"2944pt\" height=\"210pt\"\n",
              " viewBox=\"0.00 0.00 2944.00 210.00\" xmlns=\"http://www.w3.org/2000/svg\" xmlns:xlink=\"http://www.w3.org/1999/xlink\">\n",
              "<g id=\"graph0\" class=\"graph\" transform=\"scale(1 1) rotate(0) translate(4 206)\">\n",
              "<title>%3</title>\n",
              "<polygon fill=\"white\" stroke=\"transparent\" points=\"-4,4 -4,-206 2940,-206 2940,4 -4,4\"/>\n",
              "<!-- 136040035791888 -->\n",
              "<g id=\"node1\" class=\"node\">\n",
              "<title>136040035791888</title>\n",
              "<polygon fill=\"none\" stroke=\"black\" points=\"1692.5,-81.5 1692.5,-117.5 1874.5,-117.5 1874.5,-81.5 1692.5,-81.5\"/>\n",
              "<text text-anchor=\"middle\" x=\"1702.5\" y=\"-95.8\" font-family=\"Times,serif\" font-size=\"14.00\"> </text>\n",
              "<polyline fill=\"none\" stroke=\"black\" points=\"1712.5,-81.5 1712.5,-117.5 \"/>\n",
              "<text text-anchor=\"middle\" x=\"1752.5\" y=\"-95.8\" font-family=\"Times,serif\" font-size=\"14.00\">data 5.8284</text>\n",
              "<polyline fill=\"none\" stroke=\"black\" points=\"1792.5,-81.5 1792.5,-117.5 \"/>\n",
              "<text text-anchor=\"middle\" x=\"1833.5\" y=\"-95.8\" font-family=\"Times,serif\" font-size=\"14.00\">grad 0.0429</text>\n",
              "</g>\n",
              "<!-- 136040035249872+ -->\n",
              "<g id=\"node20\" class=\"node\">\n",
              "<title>136040035249872+</title>\n",
              "<ellipse fill=\"none\" stroke=\"black\" cx=\"1940\" cy=\"-71.5\" rx=\"27\" ry=\"18\"/>\n",
              "<text text-anchor=\"middle\" x=\"1940\" y=\"-67.8\" font-family=\"Times,serif\" font-size=\"14.00\">+</text>\n",
              "</g>\n",
              "<!-- 136040035791888&#45;&gt;136040035249872+ -->\n",
              "<g id=\"edge24\" class=\"edge\">\n",
              "<title>136040035791888&#45;&gt;136040035249872+</title>\n",
              "<path fill=\"none\" stroke=\"black\" d=\"M1874.82,-83.13C1885.07,-81.27 1895.01,-79.47 1903.88,-77.87\"/>\n",
              "<polygon fill=\"black\" stroke=\"black\" points=\"1904.54,-81.3 1913.75,-76.08 1903.29,-74.42 1904.54,-81.3\"/>\n",
              "</g>\n",
              "<!-- 136040035241232+ -->\n",
              "<g id=\"node22\" class=\"node\">\n",
              "<title>136040035241232+</title>\n",
              "<ellipse fill=\"none\" stroke=\"black\" cx=\"1940\" cy=\"-126.5\" rx=\"27\" ry=\"18\"/>\n",
              "<text text-anchor=\"middle\" x=\"1940\" y=\"-122.8\" font-family=\"Times,serif\" font-size=\"14.00\">+</text>\n",
              "</g>\n",
              "<!-- 136040035791888&#45;&gt;136040035241232+ -->\n",
              "<g id=\"edge27\" class=\"edge\">\n",
              "<title>136040035791888&#45;&gt;136040035241232+</title>\n",
              "<path fill=\"none\" stroke=\"black\" d=\"M1874.82,-115.28C1885.07,-117.08 1895.01,-118.81 1903.88,-120.36\"/>\n",
              "<polygon fill=\"black\" stroke=\"black\" points=\"1903.3,-123.81 1913.75,-122.09 1904.5,-116.92 1903.3,-123.81\"/>\n",
              "</g>\n",
              "<!-- 136040035791888exp -->\n",
              "<g id=\"node2\" class=\"node\">\n",
              "<title>136040035791888exp</title>\n",
              "<ellipse fill=\"none\" stroke=\"black\" cx=\"1627\" cy=\"-99.5\" rx=\"27\" ry=\"18\"/>\n",
              "<text text-anchor=\"middle\" x=\"1627\" y=\"-95.8\" font-family=\"Times,serif\" font-size=\"14.00\">exp</text>\n",
              "</g>\n",
              "<!-- 136040035791888exp&#45;&gt;136040035791888 -->\n",
              "<g id=\"edge1\" class=\"edge\">\n",
              "<title>136040035791888exp&#45;&gt;136040035791888</title>\n",
              "<path fill=\"none\" stroke=\"black\" d=\"M1654.21,-99.5C1662.34,-99.5 1671.85,-99.5 1681.94,-99.5\"/>\n",
              "<polygon fill=\"black\" stroke=\"black\" points=\"1682.19,-103 1692.19,-99.5 1682.19,-96 1682.19,-103\"/>\n",
              "</g>\n",
              "<!-- 136040035245584 -->\n",
              "<g id=\"node3\" class=\"node\">\n",
              "<title>136040035245584</title>\n",
              "<polygon fill=\"none\" stroke=\"black\" points=\"1071,-109.5 1071,-145.5 1256,-145.5 1256,-109.5 1071,-109.5\"/>\n",
              "<text text-anchor=\"middle\" x=\"1082.5\" y=\"-123.8\" font-family=\"Times,serif\" font-size=\"14.00\">n</text>\n",
              "<polyline fill=\"none\" stroke=\"black\" points=\"1094,-109.5 1094,-145.5 \"/>\n",
              "<text text-anchor=\"middle\" x=\"1134\" y=\"-123.8\" font-family=\"Times,serif\" font-size=\"14.00\">data 0.8814</text>\n",
              "<polyline fill=\"none\" stroke=\"black\" points=\"1174,-109.5 1174,-145.5 \"/>\n",
              "<text text-anchor=\"middle\" x=\"1215\" y=\"-123.8\" font-family=\"Times,serif\" font-size=\"14.00\">grad 0.0000</text>\n",
              "</g>\n",
              "<!-- 136040035249552* -->\n",
              "<g id=\"node27\" class=\"node\">\n",
              "<title>136040035249552*</title>\n",
              "<ellipse fill=\"none\" stroke=\"black\" cx=\"1319\" cy=\"-99.5\" rx=\"27\" ry=\"18\"/>\n",
              "<text text-anchor=\"middle\" x=\"1319\" y=\"-95.8\" font-family=\"Times,serif\" font-size=\"14.00\">*</text>\n",
              "</g>\n",
              "<!-- 136040035245584&#45;&gt;136040035249552* -->\n",
              "<g id=\"edge25\" class=\"edge\">\n",
              "<title>136040035245584&#45;&gt;136040035249552*</title>\n",
              "<path fill=\"none\" stroke=\"black\" d=\"M1256.01,-110.81C1265.49,-109.08 1274.66,-107.41 1282.9,-105.9\"/>\n",
              "<polygon fill=\"black\" stroke=\"black\" points=\"1283.6,-109.33 1292.81,-104.09 1282.35,-102.45 1283.6,-109.33\"/>\n",
              "</g>\n",
              "<!-- 136040035245584+ -->\n",
              "<g id=\"node4\" class=\"node\">\n",
              "<title>136040035245584+</title>\n",
              "<ellipse fill=\"none\" stroke=\"black\" cx=\"1008\" cy=\"-127.5\" rx=\"27\" ry=\"18\"/>\n",
              "<text text-anchor=\"middle\" x=\"1008\" y=\"-123.8\" font-family=\"Times,serif\" font-size=\"14.00\">+</text>\n",
              "</g>\n",
              "<!-- 136040035245584+&#45;&gt;136040035245584 -->\n",
              "<g id=\"edge2\" class=\"edge\">\n",
              "<title>136040035245584+&#45;&gt;136040035245584</title>\n",
              "<path fill=\"none\" stroke=\"black\" d=\"M1035.04,-127.5C1042.58,-127.5 1051.3,-127.5 1060.57,-127.5\"/>\n",
              "<polygon fill=\"black\" stroke=\"black\" points=\"1060.81,-131 1070.81,-127.5 1060.81,-124 1060.81,-131\"/>\n",
              "</g>\n",
              "<!-- 136040035248144 -->\n",
              "<g id=\"node5\" class=\"node\">\n",
              "<title>136040035248144</title>\n",
              "<polygon fill=\"none\" stroke=\"black\" points=\"328.5,-110.5 328.5,-146.5 543.5,-146.5 543.5,-110.5 328.5,-110.5\"/>\n",
              "<text text-anchor=\"middle\" x=\"355\" y=\"-124.8\" font-family=\"Times,serif\" font-size=\"14.00\">x2*w2</text>\n",
              "<polyline fill=\"none\" stroke=\"black\" points=\"381.5,-110.5 381.5,-146.5 \"/>\n",
              "<text text-anchor=\"middle\" x=\"421.5\" y=\"-124.8\" font-family=\"Times,serif\" font-size=\"14.00\">data 0.0000</text>\n",
              "<polyline fill=\"none\" stroke=\"black\" points=\"461.5,-110.5 461.5,-146.5 \"/>\n",
              "<text text-anchor=\"middle\" x=\"502.5\" y=\"-124.8\" font-family=\"Times,serif\" font-size=\"14.00\">grad 0.0000</text>\n",
              "</g>\n",
              "<!-- 136040035250960+ -->\n",
              "<g id=\"node24\" class=\"node\">\n",
              "<title>136040035250960+</title>\n",
              "<ellipse fill=\"none\" stroke=\"black\" cx=\"609\" cy=\"-100.5\" rx=\"27\" ry=\"18\"/>\n",
              "<text text-anchor=\"middle\" x=\"609\" y=\"-96.8\" font-family=\"Times,serif\" font-size=\"14.00\">+</text>\n",
              "</g>\n",
              "<!-- 136040035248144&#45;&gt;136040035250960+ -->\n",
              "<g id=\"edge20\" class=\"edge\">\n",
              "<title>136040035248144&#45;&gt;136040035250960+</title>\n",
              "<path fill=\"none\" stroke=\"black\" d=\"M543.84,-111.01C554.01,-109.34 563.76,-107.74 572.44,-106.32\"/>\n",
              "<polygon fill=\"black\" stroke=\"black\" points=\"573.17,-109.75 582.47,-104.68 572.04,-102.84 573.17,-109.75\"/>\n",
              "</g>\n",
              "<!-- 136040035248144* -->\n",
              "<g id=\"node6\" class=\"node\">\n",
              "<title>136040035248144*</title>\n",
              "<ellipse fill=\"none\" stroke=\"black\" cx=\"263\" cy=\"-128.5\" rx=\"27\" ry=\"18\"/>\n",
              "<text text-anchor=\"middle\" x=\"263\" y=\"-124.8\" font-family=\"Times,serif\" font-size=\"14.00\">*</text>\n",
              "</g>\n",
              "<!-- 136040035248144*&#45;&gt;136040035248144 -->\n",
              "<g id=\"edge3\" class=\"edge\">\n",
              "<title>136040035248144*&#45;&gt;136040035248144</title>\n",
              "<path fill=\"none\" stroke=\"black\" d=\"M290.34,-128.5C298.51,-128.5 308.08,-128.5 318.36,-128.5\"/>\n",
              "<polygon fill=\"black\" stroke=\"black\" points=\"318.39,-132 328.39,-128.5 318.39,-125 318.39,-132\"/>\n",
              "</g>\n",
              "<!-- 136040035241360 -->\n",
              "<g id=\"node7\" class=\"node\">\n",
              "<title>136040035241360</title>\n",
              "<polygon fill=\"none\" stroke=\"black\" points=\"716,-137.5 716,-173.5 901,-173.5 901,-137.5 716,-137.5\"/>\n",
              "<text text-anchor=\"middle\" x=\"727.5\" y=\"-151.8\" font-family=\"Times,serif\" font-size=\"14.00\">b</text>\n",
              "<polyline fill=\"none\" stroke=\"black\" points=\"739,-137.5 739,-173.5 \"/>\n",
              "<text text-anchor=\"middle\" x=\"779\" y=\"-151.8\" font-family=\"Times,serif\" font-size=\"14.00\">data 6.8814</text>\n",
              "<polyline fill=\"none\" stroke=\"black\" points=\"819,-137.5 819,-173.5 \"/>\n",
              "<text text-anchor=\"middle\" x=\"860\" y=\"-151.8\" font-family=\"Times,serif\" font-size=\"14.00\">grad 0.0000</text>\n",
              "</g>\n",
              "<!-- 136040035241360&#45;&gt;136040035245584+ -->\n",
              "<g id=\"edge28\" class=\"edge\">\n",
              "<title>136040035241360&#45;&gt;136040035245584+</title>\n",
              "<path fill=\"none\" stroke=\"black\" d=\"M901.02,-142.52C926,-138.98 951.59,-135.36 971.37,-132.55\"/>\n",
              "<polygon fill=\"black\" stroke=\"black\" points=\"972.03,-135.99 981.43,-131.12 971.04,-129.06 972.03,-135.99\"/>\n",
              "</g>\n",
              "<!-- 136040035238992 -->\n",
              "<g id=\"node8\" class=\"node\">\n",
              "<title>136040035238992</title>\n",
              "<polygon fill=\"none\" stroke=\"black\" points=\"0,-55.5 0,-91.5 200,-91.5 200,-55.5 0,-55.5\"/>\n",
              "<text text-anchor=\"middle\" x=\"16.5\" y=\"-69.8\" font-family=\"Times,serif\" font-size=\"14.00\">w1</text>\n",
              "<polyline fill=\"none\" stroke=\"black\" points=\"33,-55.5 33,-91.5 \"/>\n",
              "<text text-anchor=\"middle\" x=\"75.5\" y=\"-69.8\" font-family=\"Times,serif\" font-size=\"14.00\">data &#45;3.0000</text>\n",
              "<polyline fill=\"none\" stroke=\"black\" points=\"118,-55.5 118,-91.5 \"/>\n",
              "<text text-anchor=\"middle\" x=\"159\" y=\"-69.8\" font-family=\"Times,serif\" font-size=\"14.00\">grad 0.0000</text>\n",
              "</g>\n",
              "<!-- 136040035252944* -->\n",
              "<g id=\"node16\" class=\"node\">\n",
              "<title>136040035252944*</title>\n",
              "<ellipse fill=\"none\" stroke=\"black\" cx=\"263\" cy=\"-73.5\" rx=\"27\" ry=\"18\"/>\n",
              "<text text-anchor=\"middle\" x=\"263\" y=\"-69.8\" font-family=\"Times,serif\" font-size=\"14.00\">*</text>\n",
              "</g>\n",
              "<!-- 136040035238992&#45;&gt;136040035252944* -->\n",
              "<g id=\"edge17\" class=\"edge\">\n",
              "<title>136040035238992&#45;&gt;136040035252944*</title>\n",
              "<path fill=\"none\" stroke=\"black\" d=\"M200.21,-73.5C209.2,-73.5 217.86,-73.5 225.7,-73.5\"/>\n",
              "<polygon fill=\"black\" stroke=\"black\" points=\"225.85,-77 235.85,-73.5 225.85,-70 225.85,-77\"/>\n",
              "</g>\n",
              "<!-- 136040032701008 -->\n",
              "<g id=\"node9\" class=\"node\">\n",
              "<title>136040032701008</title>\n",
              "<polygon fill=\"none\" stroke=\"black\" points=\"4,-0.5 4,-36.5 196,-36.5 196,-0.5 4,-0.5\"/>\n",
              "<text text-anchor=\"middle\" x=\"19\" y=\"-14.8\" font-family=\"Times,serif\" font-size=\"14.00\">x1</text>\n",
              "<polyline fill=\"none\" stroke=\"black\" points=\"34,-0.5 34,-36.5 \"/>\n",
              "<text text-anchor=\"middle\" x=\"74\" y=\"-14.8\" font-family=\"Times,serif\" font-size=\"14.00\">data 2.0000</text>\n",
              "<polyline fill=\"none\" stroke=\"black\" points=\"114,-0.5 114,-36.5 \"/>\n",
              "<text text-anchor=\"middle\" x=\"155\" y=\"-14.8\" font-family=\"Times,serif\" font-size=\"14.00\">grad 0.0000</text>\n",
              "</g>\n",
              "<!-- 136040032701008&#45;&gt;136040035252944* -->\n",
              "<g id=\"edge14\" class=\"edge\">\n",
              "<title>136040032701008&#45;&gt;136040035252944*</title>\n",
              "<path fill=\"none\" stroke=\"black\" d=\"M172.53,-36.56C181.84,-39.33 191.2,-42.33 200,-45.5 210.53,-49.29 221.75,-54.1 231.72,-58.67\"/>\n",
              "<polygon fill=\"black\" stroke=\"black\" points=\"230.28,-61.86 240.82,-62.93 233.25,-55.52 230.28,-61.86\"/>\n",
              "</g>\n",
              "<!-- 136040035249744 -->\n",
              "<g id=\"node10\" class=\"node\">\n",
              "<title>136040035249744</title>\n",
              "<polygon fill=\"none\" stroke=\"black\" points=\"1690.5,-26.5 1690.5,-62.5 1876.5,-62.5 1876.5,-26.5 1690.5,-26.5\"/>\n",
              "<text text-anchor=\"middle\" x=\"1700.5\" y=\"-40.8\" font-family=\"Times,serif\" font-size=\"14.00\"> </text>\n",
              "<polyline fill=\"none\" stroke=\"black\" points=\"1710.5,-26.5 1710.5,-62.5 \"/>\n",
              "<text text-anchor=\"middle\" x=\"1750.5\" y=\"-40.8\" font-family=\"Times,serif\" font-size=\"14.00\">data 1.0000</text>\n",
              "<polyline fill=\"none\" stroke=\"black\" points=\"1790.5,-26.5 1790.5,-62.5 \"/>\n",
              "<text text-anchor=\"middle\" x=\"1833.5\" y=\"-40.8\" font-family=\"Times,serif\" font-size=\"14.00\">grad &#45;0.1036</text>\n",
              "</g>\n",
              "<!-- 136040035249744&#45;&gt;136040035249872+ -->\n",
              "<g id=\"edge26\" class=\"edge\">\n",
              "<title>136040035249744&#45;&gt;136040035249872+</title>\n",
              "<path fill=\"none\" stroke=\"black\" d=\"M1876.6,-60.6C1886.15,-62.26 1895.37,-63.88 1903.68,-65.33\"/>\n",
              "<polygon fill=\"black\" stroke=\"black\" points=\"1903.2,-68.8 1913.65,-67.07 1904.4,-61.9 1903.2,-68.8\"/>\n",
              "</g>\n",
              "<!-- 136040035243408 -->\n",
              "<g id=\"node11\" class=\"node\">\n",
              "<title>136040035243408</title>\n",
              "<polygon fill=\"none\" stroke=\"black\" points=\"2.5,-165.5 2.5,-201.5 197.5,-201.5 197.5,-165.5 2.5,-165.5\"/>\n",
              "<text text-anchor=\"middle\" x=\"19\" y=\"-179.8\" font-family=\"Times,serif\" font-size=\"14.00\">w2</text>\n",
              "<polyline fill=\"none\" stroke=\"black\" points=\"35.5,-165.5 35.5,-201.5 \"/>\n",
              "<text text-anchor=\"middle\" x=\"75.5\" y=\"-179.8\" font-family=\"Times,serif\" font-size=\"14.00\">data 1.0000</text>\n",
              "<polyline fill=\"none\" stroke=\"black\" points=\"115.5,-165.5 115.5,-201.5 \"/>\n",
              "<text text-anchor=\"middle\" x=\"156.5\" y=\"-179.8\" font-family=\"Times,serif\" font-size=\"14.00\">grad 0.0000</text>\n",
              "</g>\n",
              "<!-- 136040035243408&#45;&gt;136040035248144* -->\n",
              "<g id=\"edge18\" class=\"edge\">\n",
              "<title>136040035243408&#45;&gt;136040035248144*</title>\n",
              "<path fill=\"none\" stroke=\"black\" d=\"M172.53,-165.44C181.84,-162.67 191.2,-159.67 200,-156.5 210.53,-152.71 221.75,-147.9 231.72,-143.33\"/>\n",
              "<polygon fill=\"black\" stroke=\"black\" points=\"233.25,-146.48 240.82,-139.07 230.28,-140.14 233.25,-146.48\"/>\n",
              "</g>\n",
              "<!-- 136040035238032 -->\n",
              "<g id=\"node12\" class=\"node\">\n",
              "<title>136040035238032</title>\n",
              "<polygon fill=\"none\" stroke=\"black\" points=\"2751,-80.5 2751,-116.5 2936,-116.5 2936,-80.5 2751,-80.5\"/>\n",
              "<text text-anchor=\"middle\" x=\"2762.5\" y=\"-94.8\" font-family=\"Times,serif\" font-size=\"14.00\">o</text>\n",
              "<polyline fill=\"none\" stroke=\"black\" points=\"2774,-80.5 2774,-116.5 \"/>\n",
              "<text text-anchor=\"middle\" x=\"2814\" y=\"-94.8\" font-family=\"Times,serif\" font-size=\"14.00\">data 0.7071</text>\n",
              "<polyline fill=\"none\" stroke=\"black\" points=\"2854,-80.5 2854,-116.5 \"/>\n",
              "<text text-anchor=\"middle\" x=\"2895\" y=\"-94.8\" font-family=\"Times,serif\" font-size=\"14.00\">grad 1.0000</text>\n",
              "</g>\n",
              "<!-- 136040035238032* -->\n",
              "<g id=\"node13\" class=\"node\">\n",
              "<title>136040035238032*</title>\n",
              "<ellipse fill=\"none\" stroke=\"black\" cx=\"2688\" cy=\"-98.5\" rx=\"27\" ry=\"18\"/>\n",
              "<text text-anchor=\"middle\" x=\"2688\" y=\"-94.8\" font-family=\"Times,serif\" font-size=\"14.00\">*</text>\n",
              "</g>\n",
              "<!-- 136040035238032*&#45;&gt;136040035238032 -->\n",
              "<g id=\"edge4\" class=\"edge\">\n",
              "<title>136040035238032*&#45;&gt;136040035238032</title>\n",
              "<path fill=\"none\" stroke=\"black\" d=\"M2715.04,-98.5C2722.58,-98.5 2731.3,-98.5 2740.57,-98.5\"/>\n",
              "<polygon fill=\"black\" stroke=\"black\" points=\"2740.81,-102 2750.81,-98.5 2740.81,-95 2740.81,-102\"/>\n",
              "</g>\n",
              "<!-- 136040037124752 -->\n",
              "<g id=\"node14\" class=\"node\">\n",
              "<title>136040037124752</title>\n",
              "<polygon fill=\"none\" stroke=\"black\" points=\"1690,-136.5 1690,-172.5 1877,-172.5 1877,-136.5 1690,-136.5\"/>\n",
              "<text text-anchor=\"middle\" x=\"1700\" y=\"-150.8\" font-family=\"Times,serif\" font-size=\"14.00\"> </text>\n",
              "<polyline fill=\"none\" stroke=\"black\" points=\"1710,-136.5 1710,-172.5 \"/>\n",
              "<text text-anchor=\"middle\" x=\"1752.5\" y=\"-150.8\" font-family=\"Times,serif\" font-size=\"14.00\">data &#45;1.0000</text>\n",
              "<polyline fill=\"none\" stroke=\"black\" points=\"1795,-136.5 1795,-172.5 \"/>\n",
              "<text text-anchor=\"middle\" x=\"1836\" y=\"-150.8\" font-family=\"Times,serif\" font-size=\"14.00\">grad 0.1464</text>\n",
              "</g>\n",
              "<!-- 136040037124752&#45;&gt;136040035241232+ -->\n",
              "<g id=\"edge15\" class=\"edge\">\n",
              "<title>136040037124752&#45;&gt;136040035241232+</title>\n",
              "<path fill=\"none\" stroke=\"black\" d=\"M1877.05,-137.73C1886.54,-136.01 1895.71,-134.35 1903.95,-132.85\"/>\n",
              "<polygon fill=\"black\" stroke=\"black\" points=\"1904.64,-136.28 1913.85,-131.06 1903.39,-129.4 1904.64,-136.28\"/>\n",
              "</g>\n",
              "<!-- 136040035252944 -->\n",
              "<g id=\"node15\" class=\"node\">\n",
              "<title>136040035252944</title>\n",
              "<polygon fill=\"none\" stroke=\"black\" points=\"326,-55.5 326,-91.5 546,-91.5 546,-55.5 326,-55.5\"/>\n",
              "<text text-anchor=\"middle\" x=\"352.5\" y=\"-69.8\" font-family=\"Times,serif\" font-size=\"14.00\">x1*w1</text>\n",
              "<polyline fill=\"none\" stroke=\"black\" points=\"379,-55.5 379,-91.5 \"/>\n",
              "<text text-anchor=\"middle\" x=\"421.5\" y=\"-69.8\" font-family=\"Times,serif\" font-size=\"14.00\">data &#45;6.0000</text>\n",
              "<polyline fill=\"none\" stroke=\"black\" points=\"464,-55.5 464,-91.5 \"/>\n",
              "<text text-anchor=\"middle\" x=\"505\" y=\"-69.8\" font-family=\"Times,serif\" font-size=\"14.00\">grad 0.0000</text>\n",
              "</g>\n",
              "<!-- 136040035252944&#45;&gt;136040035250960+ -->\n",
              "<g id=\"edge19\" class=\"edge\">\n",
              "<title>136040035252944&#45;&gt;136040035250960+</title>\n",
              "<path fill=\"none\" stroke=\"black\" d=\"M546.27,-90.75C555.64,-92.23 564.6,-93.65 572.65,-94.92\"/>\n",
              "<polygon fill=\"black\" stroke=\"black\" points=\"572.23,-98.4 582.65,-96.5 573.32,-91.48 572.23,-98.4\"/>\n",
              "</g>\n",
              "<!-- 136040035252944*&#45;&gt;136040035252944 -->\n",
              "<g id=\"edge5\" class=\"edge\">\n",
              "<title>136040035252944*&#45;&gt;136040035252944</title>\n",
              "<path fill=\"none\" stroke=\"black\" d=\"M290.34,-73.5C297.77,-73.5 306.37,-73.5 315.6,-73.5\"/>\n",
              "<polygon fill=\"black\" stroke=\"black\" points=\"315.84,-77 325.84,-73.5 315.84,-70 315.84,-77\"/>\n",
              "</g>\n",
              "<!-- 136040035250384 -->\n",
              "<g id=\"node17\" class=\"node\">\n",
              "<title>136040035250384</title>\n",
              "<polygon fill=\"none\" stroke=\"black\" points=\"2443,-57.5 2443,-93.5 2625,-93.5 2625,-57.5 2443,-57.5\"/>\n",
              "<text text-anchor=\"middle\" x=\"2453\" y=\"-71.8\" font-family=\"Times,serif\" font-size=\"14.00\"> </text>\n",
              "<polyline fill=\"none\" stroke=\"black\" points=\"2463,-57.5 2463,-93.5 \"/>\n",
              "<text text-anchor=\"middle\" x=\"2503\" y=\"-71.8\" font-family=\"Times,serif\" font-size=\"14.00\">data 0.1464</text>\n",
              "<polyline fill=\"none\" stroke=\"black\" points=\"2543,-57.5 2543,-93.5 \"/>\n",
              "<text text-anchor=\"middle\" x=\"2584\" y=\"-71.8\" font-family=\"Times,serif\" font-size=\"14.00\">grad 4.8284</text>\n",
              "</g>\n",
              "<!-- 136040035250384&#45;&gt;136040035238032* -->\n",
              "<g id=\"edge23\" class=\"edge\">\n",
              "<title>136040035250384&#45;&gt;136040035238032*</title>\n",
              "<path fill=\"none\" stroke=\"black\" d=\"M2625.18,-89.15C2634.42,-90.54 2643.38,-91.9 2651.47,-93.12\"/>\n",
              "<polygon fill=\"black\" stroke=\"black\" points=\"2651.15,-96.61 2661.56,-94.65 2652.19,-89.69 2651.15,-96.61\"/>\n",
              "</g>\n",
              "<!-- 136040035250384**&#45;1 -->\n",
              "<g id=\"node18\" class=\"node\">\n",
              "<title>136040035250384**&#45;1</title>\n",
              "<ellipse fill=\"none\" stroke=\"black\" cx=\"2316\" cy=\"-71.5\" rx=\"27\" ry=\"18\"/>\n",
              "<text text-anchor=\"middle\" x=\"2316\" y=\"-67.8\" font-family=\"Times,serif\" font-size=\"14.00\">**&#45;1</text>\n",
              "</g>\n",
              "<!-- 136040035250384**&#45;1&#45;&gt;136040035250384 -->\n",
              "<g id=\"edge6\" class=\"edge\">\n",
              "<title>136040035250384**&#45;1&#45;&gt;136040035250384</title>\n",
              "<path fill=\"none\" stroke=\"black\" d=\"M2343.05,-71.98C2365.53,-72.4 2399.48,-73.03 2432.5,-73.64\"/>\n",
              "<polygon fill=\"black\" stroke=\"black\" points=\"2432.64,-77.14 2442.7,-73.83 2432.77,-70.14 2432.64,-77.14\"/>\n",
              "</g>\n",
              "<!-- 136040035249872 -->\n",
              "<g id=\"node19\" class=\"node\">\n",
              "<title>136040035249872</title>\n",
              "<polygon fill=\"none\" stroke=\"black\" points=\"2003,-53.5 2003,-89.5 2189,-89.5 2189,-53.5 2003,-53.5\"/>\n",
              "<text text-anchor=\"middle\" x=\"2013\" y=\"-67.8\" font-family=\"Times,serif\" font-size=\"14.00\"> </text>\n",
              "<polyline fill=\"none\" stroke=\"black\" points=\"2023,-53.5 2023,-89.5 \"/>\n",
              "<text text-anchor=\"middle\" x=\"2063\" y=\"-67.8\" font-family=\"Times,serif\" font-size=\"14.00\">data 6.8284</text>\n",
              "<polyline fill=\"none\" stroke=\"black\" points=\"2103,-53.5 2103,-89.5 \"/>\n",
              "<text text-anchor=\"middle\" x=\"2146\" y=\"-67.8\" font-family=\"Times,serif\" font-size=\"14.00\">grad &#45;0.1036</text>\n",
              "</g>\n",
              "<!-- 136040035249872&#45;&gt;136040035250384**&#45;1 -->\n",
              "<g id=\"edge13\" class=\"edge\">\n",
              "<title>136040035249872&#45;&gt;136040035250384**&#45;1</title>\n",
              "<path fill=\"none\" stroke=\"black\" d=\"M2189.14,-71.5C2220.72,-71.5 2254.24,-71.5 2278.74,-71.5\"/>\n",
              "<polygon fill=\"black\" stroke=\"black\" points=\"2278.98,-75 2288.98,-71.5 2278.98,-68 2278.98,-75\"/>\n",
              "</g>\n",
              "<!-- 136040035249872+&#45;&gt;136040035249872 -->\n",
              "<g id=\"edge7\" class=\"edge\">\n",
              "<title>136040035249872+&#45;&gt;136040035249872</title>\n",
              "<path fill=\"none\" stroke=\"black\" d=\"M1967.12,-71.5C1974.62,-71.5 1983.29,-71.5 1992.5,-71.5\"/>\n",
              "<polygon fill=\"black\" stroke=\"black\" points=\"1992.69,-75 2002.69,-71.5 1992.69,-68 1992.69,-75\"/>\n",
              "</g>\n",
              "<!-- 136040035241232 -->\n",
              "<g id=\"node21\" class=\"node\">\n",
              "<title>136040035241232</title>\n",
              "<polygon fill=\"none\" stroke=\"black\" points=\"2225,-108.5 2225,-144.5 2407,-144.5 2407,-108.5 2225,-108.5\"/>\n",
              "<text text-anchor=\"middle\" x=\"2235\" y=\"-122.8\" font-family=\"Times,serif\" font-size=\"14.00\"> </text>\n",
              "<polyline fill=\"none\" stroke=\"black\" points=\"2245,-108.5 2245,-144.5 \"/>\n",
              "<text text-anchor=\"middle\" x=\"2285\" y=\"-122.8\" font-family=\"Times,serif\" font-size=\"14.00\">data 4.8284</text>\n",
              "<polyline fill=\"none\" stroke=\"black\" points=\"2325,-108.5 2325,-144.5 \"/>\n",
              "<text text-anchor=\"middle\" x=\"2366\" y=\"-122.8\" font-family=\"Times,serif\" font-size=\"14.00\">grad 0.1464</text>\n",
              "</g>\n",
              "<!-- 136040035241232&#45;&gt;136040035238032* -->\n",
              "<g id=\"edge11\" class=\"edge\">\n",
              "<title>136040035241232&#45;&gt;136040035238032*</title>\n",
              "<path fill=\"none\" stroke=\"black\" d=\"M2407.04,-119.69C2485.41,-113.76 2594.98,-105.46 2650.96,-101.23\"/>\n",
              "<polygon fill=\"black\" stroke=\"black\" points=\"2651.39,-104.7 2661.1,-100.46 2650.86,-97.72 2651.39,-104.7\"/>\n",
              "</g>\n",
              "<!-- 136040035241232+&#45;&gt;136040035241232 -->\n",
              "<g id=\"edge8\" class=\"edge\">\n",
              "<title>136040035241232+&#45;&gt;136040035241232</title>\n",
              "<path fill=\"none\" stroke=\"black\" d=\"M1967,-126.5C2017.46,-126.5 2131.06,-126.5 2214.81,-126.5\"/>\n",
              "<polygon fill=\"black\" stroke=\"black\" points=\"2214.87,-130 2224.87,-126.5 2214.87,-123 2214.87,-130\"/>\n",
              "</g>\n",
              "<!-- 136040035250960 -->\n",
              "<g id=\"node23\" class=\"node\">\n",
              "<title>136040035250960</title>\n",
              "<polygon fill=\"none\" stroke=\"black\" points=\"672,-82.5 672,-118.5 945,-118.5 945,-82.5 672,-82.5\"/>\n",
              "<text text-anchor=\"middle\" x=\"725\" y=\"-96.8\" font-family=\"Times,serif\" font-size=\"14.00\">x1*w1 + x2*w2</text>\n",
              "<polyline fill=\"none\" stroke=\"black\" points=\"778,-82.5 778,-118.5 \"/>\n",
              "<text text-anchor=\"middle\" x=\"820.5\" y=\"-96.8\" font-family=\"Times,serif\" font-size=\"14.00\">data &#45;6.0000</text>\n",
              "<polyline fill=\"none\" stroke=\"black\" points=\"863,-82.5 863,-118.5 \"/>\n",
              "<text text-anchor=\"middle\" x=\"904\" y=\"-96.8\" font-family=\"Times,serif\" font-size=\"14.00\">grad 0.0000</text>\n",
              "</g>\n",
              "<!-- 136040035250960&#45;&gt;136040035245584+ -->\n",
              "<g id=\"edge16\" class=\"edge\">\n",
              "<title>136040035250960&#45;&gt;136040035245584+</title>\n",
              "<path fill=\"none\" stroke=\"black\" d=\"M941.24,-118.51C952.12,-120 962.4,-121.4 971.45,-122.64\"/>\n",
              "<polygon fill=\"black\" stroke=\"black\" points=\"971.11,-126.13 981.49,-124.01 972.05,-119.19 971.11,-126.13\"/>\n",
              "</g>\n",
              "<!-- 136040035250960+&#45;&gt;136040035250960 -->\n",
              "<g id=\"edge9\" class=\"edge\">\n",
              "<title>136040035250960+&#45;&gt;136040035250960</title>\n",
              "<path fill=\"none\" stroke=\"black\" d=\"M636.23,-100.5C643.7,-100.5 652.41,-100.5 661.87,-100.5\"/>\n",
              "<polygon fill=\"black\" stroke=\"black\" points=\"661.98,-104 671.98,-100.5 661.98,-97 661.98,-104\"/>\n",
              "</g>\n",
              "<!-- 136040035248016 -->\n",
              "<g id=\"node25\" class=\"node\">\n",
              "<title>136040035248016</title>\n",
              "<polygon fill=\"none\" stroke=\"black\" points=\"1072.5,-54.5 1072.5,-90.5 1254.5,-90.5 1254.5,-54.5 1072.5,-54.5\"/>\n",
              "<text text-anchor=\"middle\" x=\"1082.5\" y=\"-68.8\" font-family=\"Times,serif\" font-size=\"14.00\"> </text>\n",
              "<polyline fill=\"none\" stroke=\"black\" points=\"1092.5,-54.5 1092.5,-90.5 \"/>\n",
              "<text text-anchor=\"middle\" x=\"1132.5\" y=\"-68.8\" font-family=\"Times,serif\" font-size=\"14.00\">data 2.0000</text>\n",
              "<polyline fill=\"none\" stroke=\"black\" points=\"1172.5,-54.5 1172.5,-90.5 \"/>\n",
              "<text text-anchor=\"middle\" x=\"1213.5\" y=\"-68.8\" font-family=\"Times,serif\" font-size=\"14.00\">grad 0.0000</text>\n",
              "</g>\n",
              "<!-- 136040035248016&#45;&gt;136040035249552* -->\n",
              "<g id=\"edge12\" class=\"edge\">\n",
              "<title>136040035248016&#45;&gt;136040035249552*</title>\n",
              "<path fill=\"none\" stroke=\"black\" d=\"M1254.68,-88.36C1264.61,-90.11 1274.23,-91.8 1282.84,-93.32\"/>\n",
              "<polygon fill=\"black\" stroke=\"black\" points=\"1282.36,-96.78 1292.81,-95.07 1283.57,-89.89 1282.36,-96.78\"/>\n",
              "</g>\n",
              "<!-- 136040035249552 -->\n",
              "<g id=\"node26\" class=\"node\">\n",
              "<title>136040035249552</title>\n",
              "<polygon fill=\"none\" stroke=\"black\" points=\"1382,-81.5 1382,-117.5 1564,-117.5 1564,-81.5 1382,-81.5\"/>\n",
              "<text text-anchor=\"middle\" x=\"1392\" y=\"-95.8\" font-family=\"Times,serif\" font-size=\"14.00\"> </text>\n",
              "<polyline fill=\"none\" stroke=\"black\" points=\"1402,-81.5 1402,-117.5 \"/>\n",
              "<text text-anchor=\"middle\" x=\"1442\" y=\"-95.8\" font-family=\"Times,serif\" font-size=\"14.00\">data 1.7627</text>\n",
              "<polyline fill=\"none\" stroke=\"black\" points=\"1482,-81.5 1482,-117.5 \"/>\n",
              "<text text-anchor=\"middle\" x=\"1523\" y=\"-95.8\" font-family=\"Times,serif\" font-size=\"14.00\">grad 0.0000</text>\n",
              "</g>\n",
              "<!-- 136040035249552&#45;&gt;136040035791888exp -->\n",
              "<g id=\"edge21\" class=\"edge\">\n",
              "<title>136040035249552&#45;&gt;136040035791888exp</title>\n",
              "<path fill=\"none\" stroke=\"black\" d=\"M1564.18,-99.5C1573.14,-99.5 1581.83,-99.5 1589.73,-99.5\"/>\n",
              "<polygon fill=\"black\" stroke=\"black\" points=\"1589.96,-103 1599.96,-99.5 1589.96,-96 1589.96,-103\"/>\n",
              "</g>\n",
              "<!-- 136040035249552*&#45;&gt;136040035249552 -->\n",
              "<g id=\"edge10\" class=\"edge\">\n",
              "<title>136040035249552*&#45;&gt;136040035249552</title>\n",
              "<path fill=\"none\" stroke=\"black\" d=\"M1346.13,-99.5C1353.67,-99.5 1362.39,-99.5 1371.64,-99.5\"/>\n",
              "<polygon fill=\"black\" stroke=\"black\" points=\"1371.87,-103 1381.87,-99.5 1371.87,-96 1371.87,-103\"/>\n",
              "</g>\n",
              "<!-- 136040032698768 -->\n",
              "<g id=\"node28\" class=\"node\">\n",
              "<title>136040032698768</title>\n",
              "<polygon fill=\"none\" stroke=\"black\" points=\"4,-110.5 4,-146.5 196,-146.5 196,-110.5 4,-110.5\"/>\n",
              "<text text-anchor=\"middle\" x=\"19\" y=\"-124.8\" font-family=\"Times,serif\" font-size=\"14.00\">x2</text>\n",
              "<polyline fill=\"none\" stroke=\"black\" points=\"34,-110.5 34,-146.5 \"/>\n",
              "<text text-anchor=\"middle\" x=\"74\" y=\"-124.8\" font-family=\"Times,serif\" font-size=\"14.00\">data 0.0000</text>\n",
              "<polyline fill=\"none\" stroke=\"black\" points=\"114,-110.5 114,-146.5 \"/>\n",
              "<text text-anchor=\"middle\" x=\"155\" y=\"-124.8\" font-family=\"Times,serif\" font-size=\"14.00\">grad 0.0000</text>\n",
              "</g>\n",
              "<!-- 136040032698768&#45;&gt;136040035248144* -->\n",
              "<g id=\"edge22\" class=\"edge\">\n",
              "<title>136040032698768&#45;&gt;136040035248144*</title>\n",
              "<path fill=\"none\" stroke=\"black\" d=\"M196.05,-128.5C206.52,-128.5 216.65,-128.5 225.71,-128.5\"/>\n",
              "<polygon fill=\"black\" stroke=\"black\" points=\"225.79,-132 235.79,-128.5 225.79,-125 225.79,-132\"/>\n",
              "</g>\n",
              "</g>\n",
              "</svg>\n"
            ],
            "text/plain": [
              "<graphviz.graphs.Digraph at 0x7bba4a0211d0>"
            ]
          },
          "execution_count": 187,
          "metadata": {},
          "output_type": "execute_result"
        }
      ],
      "source": [
        "\n",
        "draw_dot(o)"
      ]
    },
    {
      "cell_type": "code",
      "execution_count": 188,
      "metadata": {
        "id": "pEtA_FRZWx2i"
      },
      "outputs": [],
      "source": [
        "import torch"
      ]
    },
    {
      "cell_type": "code",
      "execution_count": 190,
      "metadata": {
        "colab": {
          "base_uri": "https://localhost:8080/"
        },
        "id": "25CtrlqqYiKG",
        "outputId": "229e3832-1c73-40fb-8d05-7c79246a8256"
      },
      "outputs": [
        {
          "name": "stdout",
          "output_type": "stream",
          "text": [
            "0.7071066904050358\n",
            "---\n",
            "x2 0.5000001283844369\n",
            "w2 0.0\n",
            "x1 -1.5000003851533106\n",
            "w1 1.0000002567688737\n",
            "b 0.5000001283844369\n"
          ]
        }
      ],
      "source": [
        "x1 = torch.Tensor([2.0]).double() ; x1.requires_grad = True\n",
        "x2 = torch.Tensor([0.0]).double() ; x2.requires_grad = True\n",
        "w1 = torch.Tensor([-3.0]).double() ; w1.requires_grad = True\n",
        "w2 = torch.Tensor([1.0]).double() ; w2.requires_grad = True\n",
        "b = torch.Tensor([6.8813735870195432]).double() ; b.requires_grad = True\n",
        "\n",
        "n = x1*w1 + x2*w2 + b\n",
        "o = torch.tanh(n)\n",
        "\n",
        "print(o.data.item())\n",
        "o.backward()\n",
        "\n",
        "print('---')\n",
        "print('x2', x2.grad.item())\n",
        "print('w2', w2.grad.item())\n",
        "print('x1', x1.grad.item())\n",
        "print('w1', w1.grad.item())\n",
        "print('b', b.grad.item())"
      ]
    },
    {
      "cell_type": "code",
      "execution_count": 232,
      "metadata": {
        "id": "FVlo63FkY_5A"
      },
      "outputs": [],
      "source": [
        "import random\n",
        "class Neuron:\n",
        "  def __init__(self, nin):\n",
        "    self.w = [Value(random.uniform(-1,1)) for _ in range(nin)]\n",
        "    self.b = Value(random.uniform(-1,1))\n",
        "\n",
        "  def __call__(self, x):\n",
        "    # Ensure inputs x are also Value objects if not already\n",
        "    x_values = [xi if isinstance(xi, Value) else Value(xi) for xi in x]\n",
        "    # Perform the weighted sum iteratively\n",
        "    act = self.b # Start with the bias (a Value object)\n",
        "    for wi, xi in zip(self.w, x_values):\n",
        "      act = act + wi * xi # Ensure addition is between Value objects\n",
        "\n",
        "    out = act.tanh()\n",
        "    return out\n",
        "\n",
        "  def parameters(self):\n",
        "    return self.w + [self.b]\n",
        "\n",
        "class Layer:\n",
        "  def __init__(self, nin, nout):\n",
        "    self.neurons = [Neuron(nin) for _ in range(nout)]\n",
        "\n",
        "  def __call__(self, x):\n",
        "    # If x is a single Value object, wrap it in a list for iteration\n",
        "    inputs = [x] if isinstance(x, Value) else x\n",
        "    outs = [n(inputs) for n in self.neurons]\n",
        "    return outs[0] if len(outs) == 1 else outs\n",
        "\n",
        "  def parameters(self):\n",
        "    return [p for neuron in self.neurons for p in neuron.parameters()]\n",
        "\n",
        "class MLP:\n",
        "  def __init__(self, nin, nouts):\n",
        "    sz = [nin] + nouts\n",
        "    # Create layers. Ensure the output of each layer is passed as input to the next.\n",
        "    self.layers = [Layer(sz[i], sz[i+1]) for i in range(len(nouts))]\n",
        "\n",
        "  def __call__(self, x):\n",
        "    # Pass the output of each layer as the input to the next layer\n",
        "    for layer in self.layers:\n",
        "      x = layer(x)\n",
        "    return x\n",
        "\n",
        "  def parameters(self):\n",
        "    return [p for layer in self.layers for p in layer.parameters()]\n",
        "\n"
      ]
    },
    {
      "cell_type": "code",
      "execution_count": 233,
      "metadata": {
        "colab": {
          "base_uri": "https://localhost:8080/"
        },
        "id": "4sNCkVl4fywa",
        "outputId": "44621bbb-7433-45a5-99a9-6accd99b3036"
      },
      "outputs": [
        {
          "data": {
            "text/plain": [
              "value(data=0.8079081733940628)"
            ]
          },
          "execution_count": 233,
          "metadata": {},
          "output_type": "execute_result"
        }
      ],
      "source": [
        "x = [2.0, 3.0, -1.0]\n",
        "n = MLP(3, [4, 4, 1])\n",
        "n(x)"
      ]
    },
    {
      "cell_type": "code",
      "execution_count": 235,
      "metadata": {
        "colab": {
          "base_uri": "https://localhost:8080/"
        },
        "id": "6hVrerpwcCae",
        "outputId": "d4ea03ed-5582-4a29-9451-a222b5fda810"
      },
      "outputs": [
        {
          "data": {
            "text/plain": [
              "[value(data=0.8079081733940628),\n",
              " value(data=-0.038312672351603065),\n",
              " value(data=0.6816557721097056),\n",
              " value(data=0.8572702721551131)]"
            ]
          },
          "execution_count": 235,
          "metadata": {},
          "output_type": "execute_result"
        }
      ],
      "source": [
        "xs =[\n",
        "    [2.0, 3.0, -1.0],\n",
        "  [3.0, -1.0, 0.5],\n",
        "  [0.5, 1.0, 1.0],\n",
        "    [1.0 ,1.0, -1.0]\n",
        "]\n",
        "\n",
        "ys = [1.0, -1.0, -1.0, 1.0]\n",
        "ypred = [n(x) for x in xs]\n",
        "ypred"
      ]
    },
    {
      "cell_type": "code",
      "execution_count": 236,
      "metadata": {
        "colab": {
          "base_uri": "https://localhost:8080/"
        },
        "id": "oToPB3mxcXnn",
        "outputId": "edaf60d0-c661-4631-b562-af5607d333d8"
      },
      "outputs": [
        {
          "data": {
            "text/plain": [
              "value(data=3.810079697088886)"
            ]
          },
          "execution_count": 236,
          "metadata": {},
          "output_type": "execute_result"
        }
      ],
      "source": [
        "loss = sum([(yout - ygt)**2 for ygt, yout in zip(ys, ypred)])\n",
        "loss"
      ]
    },
    {
      "cell_type": "code",
      "execution_count": 270,
      "metadata": {
        "colab": {
          "base_uri": "https://localhost:8080/"
        },
        "id": "QiCGwQCbg0MZ",
        "outputId": "1e7c1843-5d27-4e74-cebb-91779db06a41"
      },
      "outputs": [
        {
          "name": "stdout",
          "output_type": "stream",
          "text": [
            "0 0.005262681931645202\n",
            "1 0.0052148893332584255\n",
            "2 0.0051679234681769\n",
            "3 0.005121763427331219\n",
            "4 0.005076388994096062\n",
            "5 0.005031780616040685\n",
            "6 0.004987919378045049\n",
            "7 0.0049447869767055026\n",
            "8 0.004902365695958407\n",
            "9 0.004860638383855284\n",
            "10 0.0048195884304263375\n",
            "11 0.004779199746573692\n",
            "12 0.004739456743939118\n",
            "13 0.00470034431569416\n",
            "14 0.00466184781820396\n",
            "15 0.004623953053519109\n",
            "16 0.004586646252652091\n",
            "17 0.004549914059597824\n",
            "18 0.004513743516060165\n",
            "19 0.004478122046848482\n"
          ]
        }
      ],
      "source": [
        "for k in range(20):\n",
        "  ypred = [n(x) for x in xs]\n",
        "  # forwar dpass\n",
        "  loss = sum([(yout - ygt)**2 for ygt, yout in zip(ys, ypred)])\n",
        "  #backward pass\n",
        "  for p in n.parameters():\n",
        "    p.grad = 0.0\n",
        "  loss.backward()\n",
        "  #update rule\n",
        "  for p in n.parameters():\n",
        "    p.data += -0.05 * p.grad\n",
        "\n",
        "  print(k, loss.data)\n"
      ]
    },
    {
      "cell_type": "code",
      "execution_count": 271,
      "metadata": {
        "colab": {
          "base_uri": "https://localhost:8080/"
        },
        "id": "JVHG8DLihq8E",
        "outputId": "7892c8c0-4d1d-4579-e1c4-48c1e78251aa"
      },
      "outputs": [
        {
          "data": {
            "text/plain": [
              "[value(data=0.9741010939657267),\n",
              " value(data=-0.9668597505973732),\n",
              " value(data=-0.9620744933672695),\n",
              " value(data=0.9643524400658506)]"
            ]
          },
          "execution_count": 271,
          "metadata": {},
          "output_type": "execute_result"
        }
      ],
      "source": [
        "ypred"
      ]
    },
    {
      "cell_type": "code",
      "execution_count": null,
      "metadata": {
        "id": "RZbTHKIzi-aN"
      },
      "outputs": [],
      "source": []
    }
  ],
  "metadata": {
    "colab": {
      "provenance": []
    },
    "kernelspec": {
      "display_name": "Python 3",
      "name": "python3"
    },
    "language_info": {
      "name": "python",
      "version": "3.12.4"
    }
  },
  "nbformat": 4,
  "nbformat_minor": 0
}
